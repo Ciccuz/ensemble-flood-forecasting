{
 "cells": [
  {
   "cell_type": "code",
   "execution_count": 1,
   "metadata": {},
   "outputs": [],
   "source": [
    "import AnalysisFunctions as af\n",
    "\n",
    "import pandas as pd  \n",
    "#defaultdict to use nested dictionaries\n",
    "from collections import defaultdict\n",
    "\n",
    "import matplotlib.pyplot as plt\n",
    "import statsmodels.api as sm\n",
    "import numpy as np\n",
    "\n",
    "import warnings\n",
    "warnings.filterwarnings('ignore')\n",
    "\n",
    "import dill\n",
    "\n",
    "from IPython.display import IFrame"
   ]
  },
  {
   "cell_type": "markdown",
   "metadata": {},
   "source": [
    "# 1. Pre-processing:"
   ]
  },
  {
   "cell_type": "markdown",
   "metadata": {},
   "source": [
    "- Choose the initialization time of the simulation, \n",
    "- Organize the runoff and precipitation data in dataframes altogether with their respective observation intervals\n",
    "- Calculate the quantiles on the distribution of ensemble forecasts \n",
    "- Calculate the runoff meteorological medians out of the set of realizations"
   ]
  },
  {
   "cell_type": "code",
   "execution_count": 2,
   "metadata": {},
   "outputs": [],
   "source": [
    "# Dictionary initialization:\n",
    "df = af.dictionary()"
   ]
  },
  {
   "cell_type": "code",
   "execution_count": 3,
   "metadata": {},
   "outputs": [],
   "source": [
    "# Decide simulation initialization time:\n",
    "sim_start = '2018-10-26 12:00:00'"
   ]
  },
  {
   "cell_type": "code",
   "execution_count": 4,
   "metadata": {},
   "outputs": [],
   "source": [
    "# Some parameters for the basin:\n",
    "Verzasca_area = 186*1000.0**2 #m2\n",
    "conv_factor = Verzasca_area/(1000.0*3600.0) "
   ]
  },
  {
   "cell_type": "code",
   "execution_count": 5,
   "metadata": {},
   "outputs": [],
   "source": [
    "# Runoff observation: open observation dataframe\n",
    "obs_pattern = '/home/ciccuz/hydro/prevah/runoff/2605.dat'\n",
    "obs_columns = ['year','month','day','hour','runoff']\n",
    "obs_df = pd.DataFrame(pd.read_csv(obs_pattern, names=obs_columns, delim_whitespace=True, header=None))\n",
    "obs_df['date'] = pd.to_datetime(obs_df[['year', 'month', 'day', 'hour']])\n",
    "\n",
    "\n",
    "# Precipitation observation: open precipitation observation dataframe obtained by cosmo1+pluviometer \n",
    "#data concatenated series before the initialization of the model\n",
    "prec_obs_df = af.dictionary(pattern=\"/home/ciccuz/hydro/PrecObs/cosmo1_{simul_time}/{otherstuff}\",\n",
    "                        folders_pattern = '/home/ciccuz/hydro/PrecObs/cosmo1_*')\n",
    "prec_obs_series= dill.load( open( \"prec_obs/prec_obs_series.txt\", \"rb\" ) )"
   ]
  },
  {
   "cell_type": "code",
   "execution_count": 6,
   "metadata": {},
   "outputs": [],
   "source": [
    "# Extract from the dictionary the dataframe containing all the different realizations of the same event: \n",
    "#every ensemble member and parameter set combination for the runoff, every ensemble member for the precipitation.\n",
    "ens_df_prec = af.ensemble_df(df, sim_start, Verzasca_area, 'P-kor')\n",
    "ens_df_runoff = af.ensemble_df(df, sim_start, Verzasca_area,'RGES')"
   ]
  },
  {
   "cell_type": "code",
   "execution_count": 7,
   "metadata": {},
   "outputs": [],
   "source": [
    "# Calculate the quantiles for the variable chosen considering all the different realizations for the 120h ahead.\n",
    "quant_prec = af.quantiles(ens_df_prec)\n",
    "quant_runoff = af.quantiles(ens_df_runoff)"
   ]
  },
  {
   "cell_type": "code",
   "execution_count": 8,
   "metadata": {},
   "outputs": [],
   "source": [
    "# Define the subset of runoff and precipitation observation based on quantiles dataframe date boundaries\n",
    "obs_indexes_runoff = obs_df.loc[obs_df.index[obs_df['date'] == str(quant_runoff.date[0])] |\n",
    "        obs_df.index[obs_df['date'] == str(quant_runoff.date[119])]]\n",
    "obs_indexes_prec = prec_obs_series.loc[prec_obs_series.index[prec_obs_series['date'] == str(quant_runoff.date[0])] |\n",
    "        prec_obs_series.index[prec_obs_series['date'] == str(quant_runoff.date[119])]]\n",
    "\n",
    "obs_subset = obs_df.loc[obs_indexes_runoff.index[0]:obs_indexes_runoff.index[1]]\n",
    "prec_obs_subset = prec_obs_series.loc[obs_indexes_prec.index[0]:obs_indexes_prec.index[1]]"
   ]
  },
  {
   "cell_type": "code",
   "execution_count": 9,
   "metadata": {},
   "outputs": [],
   "source": [
    "# Meteorological medians:\n",
    "# Select groups of realizations based on the same ensemble members:\n",
    "# dictionaries sorted by ensemble members\n",
    "rm_groups_runoff = af.ens_param_groups(ens_df_runoff)[0]\n",
    "\n",
    "# Quantiles dictionaries from above rm groups dictionary\n",
    "quant_rm_dict = lambda: defaultdict(quant_rm_dict)\n",
    "quant_rm_groups_runoff = quant_rm_dict()\n",
    "\n",
    "for rm in range(21):\n",
    "    quant_rm_groups_runoff[rm] = af.quantiles(rm_groups_runoff[rm])\n",
    "\n",
    "# Construct a dataframe having all the medians obtained for every group of realizations \n",
    "# associated to an ens member\n",
    "rm_medians = pd.DataFrame(index=range(120))\n",
    "\n",
    "for rm in range(21):\n",
    "    rm_medians[rm] = quant_rm_groups_runoff[rm]['0.5']\n",
    "rm_medians['date'] = quant_rm_groups_runoff[rm]['date']\n",
    "\n",
    "rm_medians.columns = ['rm00','rm01','rm02','rm03','rm04','rm05','rm06','rm07','rm08','rm09','rm10','rm11','rm12',\n",
    "                     'rm13','rm14','rm15','rm16','rm17','rm18','rm19','rm20','date']\n",
    "\n",
    "# Quantiles on rm medians:\n",
    "quant_rm_medians = af.quantiles(rm_medians)"
   ]
  },
  {
   "cell_type": "markdown",
   "metadata": {},
   "source": [
    "## 1.1. Spaghetti plot for the entire set of realizations:"
   ]
  },
  {
   "cell_type": "markdown",
   "metadata": {},
   "source": [
    "One forecast initialization comprises 120 hourly values of forecast, the number of runoff forecasts for every initialization is given by the product of the ensemble members of the meteorological model (21 ens) and the set of hydrological parameters that have been made randomly change (25 pin), so 525. The precipitation forecasts are given by the 21 ensemble members composing the meteorological model."
   ]
  },
  {
   "cell_type": "code",
   "execution_count": null,
   "metadata": {},
   "outputs": [],
   "source": [
    "#Spaghetti plot: \n",
    "af.spaghetti_plot(ens_df_runoff, ens_df_prec, obs_subset, prec_obs_subset, sim_start)"
   ]
  },
  {
   "cell_type": "code",
   "execution_count": 69,
   "metadata": {
    "scrolled": false
   },
   "outputs": [
    {
     "data": {
      "text/html": [
       "\n",
       "        <iframe\n",
       "            width=\"900\"\n",
       "            height=\"600\"\n",
       "            src=\"latex/thesis/figs/uncertainty/spaghetti_all.png\"\n",
       "            frameborder=\"0\"\n",
       "            allowfullscreen\n",
       "        ></iframe>\n",
       "        "
      ],
      "text/plain": [
       "<IPython.lib.display.IFrame at 0x7fd154188470>"
      ]
     },
     "execution_count": 69,
     "metadata": {},
     "output_type": "execute_result"
    }
   ],
   "source": [
    "IFrame('latex/thesis/figs/uncertainty/spaghetti_all.png', width=900, height=600)"
   ]
  },
  {
   "cell_type": "markdown",
   "metadata": {},
   "source": [
    "# 2. Separate different sources of uncertainty:"
   ]
  },
  {
   "cell_type": "markdown",
   "metadata": {},
   "source": [
    "## 2.1. Meteorological uncertainty:"
   ]
  },
  {
   "cell_type": "markdown",
   "metadata": {},
   "source": [
    "To have a look at how the meteorological uncertainty impact on the forecast take the meteorological medians (i.e. the 21 medians around the 25 different sets of hydrological parameters) and look at the resulting spread of the simulation, compared to the total spread obtained by the 525 ensemble members."
   ]
  },
  {
   "cell_type": "code",
   "execution_count": null,
   "metadata": {},
   "outputs": [],
   "source": [
    "# Quantify the meteorological uncertainty by plotting the range of spread among all the 21 rm medians obtained:\n",
    "#af.hydrograph(quant_rm_medians, quant_prec, obs_subset, prec_obs_subset, sim_start, medians=True)\n",
    "af.comparison_meteo_hydrograph(quant_rm_medians, quant_runoff, quant_prec, obs_subset, prec_obs_subset, sim_start)[1]"
   ]
  },
  {
   "cell_type": "code",
   "execution_count": 71,
   "metadata": {},
   "outputs": [
    {
     "data": {
      "text/html": [
       "\n",
       "        <iframe\n",
       "            width=\"900\"\n",
       "            height=\"600\"\n",
       "            src=\"latex/thesis/figs/uncertainty/hydrograph_meteo.png\"\n",
       "            frameborder=\"0\"\n",
       "            allowfullscreen\n",
       "        ></iframe>\n",
       "        "
      ],
      "text/plain": [
       "<IPython.lib.display.IFrame at 0x7fd1541882b0>"
      ]
     },
     "execution_count": 71,
     "metadata": {},
     "output_type": "execute_result"
    }
   ],
   "source": [
    "IFrame('latex/thesis/figs/uncertainty/hydrograph_meteo.png', width=900, height=600)"
   ]
  },
  {
   "cell_type": "markdown",
   "metadata": {},
   "source": [
    "## 2.2. Hydrological parameters uncertainty:"
   ]
  },
  {
   "cell_type": "markdown",
   "metadata": {},
   "source": [
    "#ADD DESCRIPTION"
   ]
  },
  {
   "cell_type": "code",
   "execution_count": 70,
   "metadata": {},
   "outputs": [
    {
     "data": {
      "text/html": [
       "\n",
       "        <iframe\n",
       "            width=\"900\"\n",
       "            height=\"600\"\n",
       "            src=\"latex/thesis/figs/uncertainty/hydrograph_hydro.png\"\n",
       "            frameborder=\"0\"\n",
       "            allowfullscreen\n",
       "        ></iframe>\n",
       "        "
      ],
      "text/plain": [
       "<IPython.lib.display.IFrame at 0x7fd154188550>"
      ]
     },
     "execution_count": 70,
     "metadata": {},
     "output_type": "execute_result"
    }
   ],
   "source": [
    "IFrame('latex/thesis/figs/uncertainty/hydrograph_hydro.png', width=900, height=600)"
   ]
  },
  {
   "cell_type": "markdown",
   "metadata": {},
   "source": [
    "Look for different ensemble realizations how the hydrological spread behaves: detect three realizations having different behaviours and plot the corresponding spread around their medians."
   ]
  },
  {
   "cell_type": "markdown",
   "metadata": {},
   "source": [
    "#ADD DESCRIPTION"
   ]
  },
  {
   "cell_type": "code",
   "execution_count": null,
   "metadata": {},
   "outputs": [],
   "source": [
    "rm_high = 4\n",
    "rm_medium = 9\n",
    "rm_low = 7\n",
    "\n",
    "af.hydrograph_rms(rm_high, rm_medium, rm_low, ens_df_prec, quant_rm_groups_runoff, quant_runoff, \n",
    "                  obs_subset, prec_obs_subset, sim_start)"
   ]
  },
  {
   "cell_type": "code",
   "execution_count": 80,
   "metadata": {},
   "outputs": [
    {
     "data": {
      "text/html": [
       "\n",
       "        <iframe\n",
       "            width=\"900\"\n",
       "            height=\"350\"\n",
       "            src=\"latex/thesis/figs/uncertainty/hydro_unc_spread.png\"\n",
       "            frameborder=\"0\"\n",
       "            allowfullscreen\n",
       "        ></iframe>\n",
       "        "
      ],
      "text/plain": [
       "<IPython.lib.display.IFrame at 0x7fd15418c470>"
      ]
     },
     "execution_count": 80,
     "metadata": {},
     "output_type": "execute_result"
    }
   ],
   "source": [
    "IFrame('latex/thesis/figs/uncertainty/hydro_unc_spread.png', width=900, height=350)"
   ]
  },
  {
   "cell_type": "markdown",
   "metadata": {},
   "source": [
    "Quantify the hydrological uncertainty considering the spread between the quantiles around every meteorological median: for every meteo median, in every hourly point, report the total spread range and the IQR and normalize it with the median value of discharge in that point."
   ]
  },
  {
   "cell_type": "markdown",
   "metadata": {},
   "source": [
    "# 3. Peak-box approach:\n",
    "Application of the algorithm developed to construct multiple peak-boxes related to different peak events, as an extension of the algorithm developed in Zappa et al. (2013). For more details take a look at the [dedicated  repository](https://github.com/agiord/peakbox)"
   ]
  },
  {
   "cell_type": "code",
   "execution_count": 17,
   "metadata": {},
   "outputs": [],
   "source": [
    "import individual_scripts.peakbox_v5 as pbk"
   ]
  },
  {
   "cell_type": "code",
   "execution_count": null,
   "metadata": {},
   "outputs": [],
   "source": [
    "pbk.peak_box_multipeaks(rm_medians1, obs_subset1, sim_start)"
   ]
  },
  {
   "cell_type": "code",
   "execution_count": 106,
   "metadata": {},
   "outputs": [
    {
     "data": {
      "text/html": [
       "\n",
       "        <iframe\n",
       "            width=\"750\"\n",
       "            height=\"600\"\n",
       "            src=\"latex/thesis/figs/Peakbox/new/pb1.png\"\n",
       "            frameborder=\"0\"\n",
       "            allowfullscreen\n",
       "        ></iframe>\n",
       "        "
      ],
      "text/plain": [
       "<IPython.lib.display.IFrame at 0x7fd1540fa9e8>"
      ]
     },
     "execution_count": 106,
     "metadata": {},
     "output_type": "execute_result"
    }
   ],
   "source": [
    "IFrame('latex/thesis/figs/Peakbox/new/pb1.png', width=750, height=600)"
   ]
  },
  {
   "cell_type": "markdown",
   "metadata": {},
   "source": [
    "## 3.1 Peak-box evaluation"
   ]
  },
  {
   "cell_type": "markdown",
   "metadata": {},
   "source": [
    "### - Forecast sharpness"
   ]
  },
  {
   "cell_type": "code",
   "execution_count": 94,
   "metadata": {},
   "outputs": [
    {
     "data": {
      "text/html": [
       "\n",
       "        <iframe\n",
       "            width=\"950\"\n",
       "            height=\"500\"\n",
       "            src=\"latex/thesis/figs/Peakbox/sharp_verif/sharpness_v4_1.png\"\n",
       "            frameborder=\"0\"\n",
       "            allowfullscreen\n",
       "        ></iframe>\n",
       "        "
      ],
      "text/plain": [
       "<IPython.lib.display.IFrame at 0x7fd15410edd8>"
      ]
     },
     "execution_count": 94,
     "metadata": {},
     "output_type": "execute_result"
    }
   ],
   "source": [
    "IFrame('latex/thesis/figs/Peakbox/sharp_verif/sharpness_v4_1.png', width=950, height=500)"
   ]
  },
  {
   "cell_type": "markdown",
   "metadata": {},
   "source": [
    "### - Peak median verification"
   ]
  },
  {
   "cell_type": "code",
   "execution_count": 95,
   "metadata": {},
   "outputs": [
    {
     "data": {
      "text/html": [
       "\n",
       "        <iframe\n",
       "            width=\"950\"\n",
       "            height=\"500\"\n",
       "            src=\"latex/thesis/figs/Peakbox/sharp_verif/verification_v4_2.png\"\n",
       "            frameborder=\"0\"\n",
       "            allowfullscreen\n",
       "        ></iframe>\n",
       "        "
      ],
      "text/plain": [
       "<IPython.lib.display.IFrame at 0x7fd15410ef98>"
      ]
     },
     "execution_count": 95,
     "metadata": {},
     "output_type": "execute_result"
    }
   ],
   "source": [
    "IFrame('latex/thesis/figs/Peakbox/sharp_verif/verification_v4_2.png', width=950, height=500)"
   ]
  },
  {
   "cell_type": "markdown",
   "metadata": {},
   "source": [
    "### - Events detection"
   ]
  },
  {
   "cell_type": "code",
   "execution_count": 99,
   "metadata": {},
   "outputs": [
    {
     "data": {
      "text/html": [
       "\n",
       "        <iframe\n",
       "            width=\"950\"\n",
       "            height=\"380\"\n",
       "            src=\"latex/thesis/figs/Peakbox/sharp_verif/hitmiss_v2.png\"\n",
       "            frameborder=\"0\"\n",
       "            allowfullscreen\n",
       "        ></iframe>\n",
       "        "
      ],
      "text/plain": [
       "<IPython.lib.display.IFrame at 0x7fd1540fff28>"
      ]
     },
     "execution_count": 99,
     "metadata": {},
     "output_type": "execute_result"
    }
   ],
   "source": [
    "IFrame('latex/thesis/figs/Peakbox/sharp_verif/hitmiss_v2.png', width=950, height=380)"
   ]
  },
  {
   "cell_type": "markdown",
   "metadata": {},
   "source": [
    "# 4. Cluster analysis"
   ]
  },
  {
   "cell_type": "code",
   "execution_count": 58,
   "metadata": {},
   "outputs": [],
   "source": [
    "import individual_scripts.cluster_funct as cl"
   ]
  },
  {
   "cell_type": "markdown",
   "metadata": {},
   "source": [
    "Perform a hierarchical agglomerative complete-linkage cluster analysis on the meteorological precipitation ensemble members and extract a restricted number of representative members. Goal: check whether the representative members extracted from the few clusters (3-5-7) we obtain are able to give similar/worst/better forecasts than by using the entire set of ensemble forecasts (21), and see which part of the spread are able to cover."
   ]
  },
  {
   "cell_type": "code",
   "execution_count": null,
   "metadata": {},
   "outputs": [],
   "source": [
    "#Plot the dendrogram: visualization of the clustering algorithm applied\n",
    "cl.clustered_dendrogram(ens_df_prec.drop('date', axis=1), sim_start)\n",
    "plt.show()"
   ]
  },
  {
   "cell_type": "code",
   "execution_count": 112,
   "metadata": {},
   "outputs": [
    {
     "data": {
      "text/html": [
       "\n",
       "        <iframe\n",
       "            width=\"950\"\n",
       "            height=\"550\"\n",
       "            src=\"latex/thesis/figs/cluster/runoff/dendrogram.png\"\n",
       "            frameborder=\"0\"\n",
       "            allowfullscreen\n",
       "        ></iframe>\n",
       "        "
      ],
      "text/plain": [
       "<IPython.lib.display.IFrame at 0x7fd15411f2b0>"
      ]
     },
     "execution_count": 112,
     "metadata": {},
     "output_type": "execute_result"
    }
   ],
   "source": [
    "IFrame('latex/thesis/figs/cluster/runoff/dendrogram.png', width=950, height=550)"
   ]
  },
  {
   "cell_type": "code",
   "execution_count": 60,
   "metadata": {},
   "outputs": [],
   "source": [
    "#Choose the number of clusters (3 or 5):\n",
    "Nclusters = 3\n",
    "\n",
    "#extract the representative members\n",
    "RM = cl.clustered_RM(ens_df_prec.drop('date', axis=1), sim_start, Nclusters)\n",
    "\n",
    "#extract the sub-dataframe for prec and runoff forecasts containing only the members related to the new extracted representative members:\n",
    "clust_ens_df_prec = pd.DataFrame()\n",
    "clust_ens_df_runoff = pd.DataFrame()\n",
    "\n",
    "for rm_index in range(Nclusters):\n",
    "    clust_ens_df_prec = pd.concat([clust_ens_df_prec, ens_df_prec.loc[:, ens_df_prec.columns == f'rm{RM[rm_index]:02d}_pin01']], axis=1, sort=False)\n",
    "    for pin in range(1,26):\n",
    "        clust_ens_df_runoff = pd.concat([clust_ens_df_runoff, ens_df_runoff.loc[:, ens_df_runoff.columns == f'rm{RM[rm_index]:02d}_pin{pin:02d}']], axis=1, sort=False)\n",
    "\n",
    "clust_ens_df_prec = pd.concat([clust_ens_df_prec, ens_df_prec.date], axis=1)\n",
    "clust_ens_df_runoff = pd.concat([clust_ens_df_runoff, ens_df_runoff.date], axis=1)\n",
    "\n",
    "# Cluster quantiles:\n",
    "clust_quant_prec = af.quantiles(clust_ens_df_prec)\n",
    "clust_quant_runoff = af.quantiles(clust_ens_df_runoff)"
   ]
  },
  {
   "cell_type": "code",
   "execution_count": null,
   "metadata": {},
   "outputs": [],
   "source": [
    "# Hydrograph plot of clustered forecasts\n",
    "cl.cluster_hydrograph(clust_quant_runoff, clust_quant_prec, quant_runoff, quant_prec, obs_subset, prec_obs_subset, sim_start, Nclusters=Nclusters)[2]"
   ]
  },
  {
   "cell_type": "code",
   "execution_count": 114,
   "metadata": {
    "scrolled": false
   },
   "outputs": [
    {
     "data": {
      "text/html": [
       "\n",
       "        <iframe\n",
       "            width=\"950\"\n",
       "            height=\"550\"\n",
       "            src=\"latex/thesis/figs/cluster/runoff/cluster_hydrograph_3_NEW.png\"\n",
       "            frameborder=\"0\"\n",
       "            allowfullscreen\n",
       "        ></iframe>\n",
       "        "
      ],
      "text/plain": [
       "<IPython.lib.display.IFrame at 0x7fd1540fdcc0>"
      ]
     },
     "execution_count": 114,
     "metadata": {},
     "output_type": "execute_result"
    }
   ],
   "source": [
    "IFrame('latex/thesis/figs/cluster/runoff/cluster_hydrograph_3_NEW.png', width=950, height=550)"
   ]
  },
  {
   "cell_type": "code",
   "execution_count": 115,
   "metadata": {},
   "outputs": [
    {
     "data": {
      "text/html": [
       "\n",
       "        <iframe\n",
       "            width=\"950\"\n",
       "            height=\"550\"\n",
       "            src=\"latex/thesis/figs/cluster/runoff/cluster_hydrograph_5_NEW.png\"\n",
       "            frameborder=\"0\"\n",
       "            allowfullscreen\n",
       "        ></iframe>\n",
       "        "
      ],
      "text/plain": [
       "<IPython.lib.display.IFrame at 0x7fd1540fa3c8>"
      ]
     },
     "execution_count": 115,
     "metadata": {},
     "output_type": "execute_result"
    }
   ],
   "source": [
    "IFrame('latex/thesis/figs/cluster/runoff/cluster_hydrograph_5_NEW.png', width=950, height=550)"
   ]
  },
  {
   "cell_type": "code",
   "execution_count": 116,
   "metadata": {},
   "outputs": [
    {
     "data": {
      "text/html": [
       "\n",
       "        <iframe\n",
       "            width=\"950\"\n",
       "            height=\"550\"\n",
       "            src=\"latex/thesis/figs/cluster/runoff/cluster_hydrograph_7_NEW.png\"\n",
       "            frameborder=\"0\"\n",
       "            allowfullscreen\n",
       "        ></iframe>\n",
       "        "
      ],
      "text/plain": [
       "<IPython.lib.display.IFrame at 0x7fd1540fafd0>"
      ]
     },
     "execution_count": 116,
     "metadata": {},
     "output_type": "execute_result"
    }
   ],
   "source": [
    "IFrame('latex/thesis/figs/cluster/runoff/cluster_hydrograph_7_NEW.png', width=950, height=550)"
   ]
  },
  {
   "cell_type": "markdown",
   "metadata": {},
   "source": [
    "## 4.1 Clustering performance"
   ]
  },
  {
   "cell_type": "code",
   "execution_count": 120,
   "metadata": {},
   "outputs": [
    {
     "data": {
      "text/html": [
       "\n",
       "        <iframe\n",
       "            width=\"700\"\n",
       "            height=\"450\"\n",
       "            src=\"latex/thesis/figs/cluster/cluster_coverage_wIntervals.png\"\n",
       "            frameborder=\"0\"\n",
       "            allowfullscreen\n",
       "        ></iframe>\n",
       "        "
      ],
      "text/plain": [
       "<IPython.lib.display.IFrame at 0x7fd1541af630>"
      ]
     },
     "execution_count": 120,
     "metadata": {},
     "output_type": "execute_result"
    }
   ],
   "source": [
    "IFrame('latex/thesis/figs/cluster/cluster_coverage_wIntervals.png', width=700, height=450)"
   ]
  },
  {
   "cell_type": "code",
   "execution_count": 125,
   "metadata": {},
   "outputs": [
    {
     "data": {
      "text/html": [
       "\n",
       "        <iframe\n",
       "            width=\"850\"\n",
       "            height=\"650\"\n",
       "            src=\"latex/thesis/figs/cluster/runoff/ROCa_runoff_TOTvsCLUSTERS.png\"\n",
       "            frameborder=\"0\"\n",
       "            allowfullscreen\n",
       "        ></iframe>\n",
       "        "
      ],
      "text/plain": [
       "<IPython.lib.display.IFrame at 0x7fd154129a20>"
      ]
     },
     "execution_count": 125,
     "metadata": {},
     "output_type": "execute_result"
    }
   ],
   "source": [
    "IFrame('latex/thesis/figs/cluster/runoff/ROCa_runoff_TOTvsCLUSTERS.png', width=850, height=650)"
   ]
  }
 ],
 "metadata": {
  "kernelspec": {
   "display_name": "Python 3",
   "language": "python",
   "name": "python3"
  },
  "language_info": {
   "codemirror_mode": {
    "name": "ipython",
    "version": 3
   },
   "file_extension": ".py",
   "mimetype": "text/x-python",
   "name": "python",
   "nbconvert_exporter": "python",
   "pygments_lexer": "ipython3",
   "version": "3.6.7"
  }
 },
 "nbformat": 4,
 "nbformat_minor": 2
}
